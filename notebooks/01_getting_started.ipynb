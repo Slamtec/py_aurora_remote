{
 "cells": [
  {
   "cell_type": "markdown",
   "metadata": {},
   "source": [
    "# Getting Started with Aurora Python SDK\n",
    "\n",
    "This notebook provides a comprehensive introduction to the SLAMTEC Aurora Python SDK. You'll learn how to:\n",
    "\n",
    "1. Install and import the SDK\n",
    "2. Connect to an Aurora device\n",
    "3. Retrieve basic device information\n",
    "4. Get pose data\n",
    "5. Handle connections properly\n",
    "\n",
    "## Prerequisites\n",
    "\n",
    "- Aurora device connected to the network\n",
    "- Python 3.6+ with the Aurora SDK installed\n",
    "- Device IP address (or auto-discovery)\n",
    "\n",
    "## Installation\n",
    "\n",
    "If you haven't installed the Aurora SDK yet, follow the installation instructions in the main README."
   ]
  },
  {
   "cell_type": "markdown",
   "metadata": {},
   "source": [
    "## Step 1: Import the SDK\n",
    "\n",
    "First, let's import the Aurora SDK and check that it's working properly.\n",
    "\n",
    "**Important Note:** If you've modified the Aurora SDK source code or are getting unexpected errors like \"too many values to unpack\", you may need to restart the Jupyter kernel to reload the updated module. Use: `Kernel → Restart Kernel` from the menu."
   ]
  },
  {
   "cell_type": "code",
   "execution_count": 1,
   "metadata": {},
   "outputs": [
    {
     "name": "stdout",
     "output_type": "stream",
     "text": [
      "✅ Aurora SDK imported successfully!\n",
      "SDK Version: slamtec_aurora_sdk.aurora_sdk\n",
      "✅ API returns correct number of values (2)\n"
     ]
    }
   ],
   "source": [
    "# Import the Aurora SDK\n",
    "# IMPORTANT: If you get \"too many values to unpack\" errors, restart the kernel first!\n",
    "\n",
    "import importlib\n",
    "import sys\n",
    "import gc\n",
    "\n",
    "# Force complete module cleanup\n",
    "modules_to_remove = [name for name in list(sys.modules.keys()) if name.startswith('slamtec_aurora_sdk')]\n",
    "for module_name in modules_to_remove:\n",
    "    print(f\"Removing cached module: {module_name}\")\n",
    "    del sys.modules[module_name]\n",
    "\n",
    "# Force garbage collection\n",
    "gc.collect()\n",
    "\n",
    "# Now import fresh modules\n",
    "from slamtec_aurora_sdk import AuroraSDK\n",
    "from slamtec_aurora_sdk.exceptions import AuroraSDKError, ConnectionError, DataNotReadyError\n",
    "\n",
    "# Import additional libraries for data handling\n",
    "import numpy as np\n",
    "import time\n",
    "from datetime import datetime\n",
    "\n",
    "print(\"✅ Aurora SDK imported successfully!\")\n",
    "print(f\"SDK Version: {AuroraSDK.__module__}\")\n",
    "\n",
    "# Test the API to verify it returns the correct number of values\n",
    "try:\n",
    "    test_sdk = AuroraSDK()\n",
    "    # This should fail with ConnectionError, not unpack error\n",
    "    test_sdk.data_provider.get_current_pose()\n",
    "except ConnectionError:\n",
    "    print(\"✅ API returns correct number of values (2)\")\n",
    "except ValueError as e:\n",
    "    if \"too many values to unpack\" in str(e):\n",
    "        print(\"❌ KERNEL RESTART REQUIRED!\")\n",
    "        print(\"   Go to: Kernel → Restart Kernel, then re-run this cell\")\n",
    "    else:\n",
    "        print(f\"❌ Unexpected error: {e}\")\n",
    "except Exception as e:\n",
    "    print(f\"✅ API working (got expected error: {type(e).__name__})\")"
   ]
  },
  {
   "cell_type": "markdown",
   "metadata": {},
   "source": [
    "## 🚨 Quick Fix for \"too many values to unpack\" Error\n",
    "\n",
    "**If you're seeing the \"too many values to unpack (expected 2)\" error:**\n",
    "\n",
    "1. **STOP** - Don't continue with the other cells\n",
    "2. **Restart the Jupyter kernel**: `Kernel → Restart Kernel` from the menu\n",
    "3. **Re-run the import cell above** (Cell #2)\n",
    "4. **Then continue** with the rest of the notebook\n",
    "\n",
    "This error happens because Jupyter cached an old version of the Aurora SDK. Restarting the kernel clears all cached modules and loads the updated version.\n",
    "\n",
    "**Alternative quick test** - Run this cell to check if the API is working:\n",
    "\n",
    "```python\n",
    "# Quick API test\n",
    "try:\n",
    "    temp_sdk = AuroraSDK()\n",
    "    temp_sdk.data_provider.get_current_pose()\n",
    "except ConnectionError:\n",
    "    print(\"✅ API fixed - returns 2 values as expected\")\n",
    "except ValueError as e:\n",
    "    if \"too many values to unpack\" in str(e):\n",
    "        print(\"❌ Still cached - RESTART KERNEL and re-run import cell\")\n",
    "```"
   ]
  },
  {
   "cell_type": "code",
   "execution_count": 2,
   "metadata": {},
   "outputs": [
    {
     "name": "stdout",
     "output_type": "stream",
     "text": [
      "✅ Aurora SDK instance created!\n",
      "\n",
      "Available components:\n",
      "- Controller: Controller\n",
      "- DataProvider: DataProvider\n",
      "- MapManager: MapManager\n",
      "- LIDAR2DMapBuilder: LIDAR2DMapBuilder\n",
      "- EnhancedImaging: EnhancedImaging\n",
      "- FloorDetector: FloorDetector\n"
     ]
    }
   ],
   "source": [
    "# Create Aurora SDK instance (session is created automatically)\n",
    "sdk = AuroraSDK()\n",
    "\n",
    "print(\"✅ Aurora SDK instance created!\")\n",
    "print(\"\\nAvailable components:\")\n",
    "print(f\"- Controller: {type(sdk.controller).__name__}\")\n",
    "print(f\"- DataProvider: {type(sdk.data_provider).__name__}\")\n",
    "print(f\"- MapManager: {type(sdk.map_manager).__name__}\")\n",
    "print(f\"- LIDAR2DMapBuilder: {type(sdk.lidar_2d_map_builder).__name__}\")\n",
    "print(f\"- EnhancedImaging: {type(sdk.enhanced_imaging).__name__}\")\n",
    "print(f\"- FloorDetector: {type(sdk.floor_detector).__name__}\")"
   ]
  },
  {
   "cell_type": "markdown",
   "metadata": {},
   "source": [
    "## Step 3: Device Discovery\n",
    "\n",
    "Before connecting, let's discover Aurora devices on the network."
   ]
  },
  {
   "cell_type": "code",
   "execution_count": 3,
   "metadata": {},
   "outputs": [
    {
     "name": "stdout",
     "output_type": "stream",
     "text": [
      "Discovering Aurora devices...\n",
      "✅ Found 1 Aurora device(s):\n",
      "\n",
      "Device 0:\n",
      "  Name: Aurora Device 0\n",
      "  Connection options:\n",
      "    0: tcp://[fe80::ad94:89de:cef2:dcb4]:7447\n",
      "    1: tcp://192.168.1.212:7447\n"
     ]
    }
   ],
   "source": [
    "# Discover Aurora devices\n",
    "print(\"Discovering Aurora devices...\")\n",
    "devices = sdk.discover_devices(timeout=10.0)\n",
    "\n",
    "if devices:\n",
    "    print(f\"✅ Found {len(devices)} Aurora device(s):\")\n",
    "    for i, device in enumerate(devices):\n",
    "        print(f\"\\nDevice {i}:\")\n",
    "        print(f\"  Name: {device['device_name']}\")\n",
    "        print(f\"  Connection options:\")\n",
    "        for j, option in enumerate(device['options']):\n",
    "            print(f\"    {j}: {option['protocol']}://{option['address']}:{option['port']}\")\n",
    "else:\n",
    "    print(\"❌ No Aurora devices found on the network\")\n",
    "    print(\"Make sure your Aurora device is:\")\n",
    "    print(\"  - Powered on\")\n",
    "    print(\"  - Connected to the same network\")\n",
    "    print(\"  - In the correct operating mode\")"
   ]
  },
  {
   "cell_type": "markdown",
   "metadata": {},
   "source": [
    "## Step 4: Connect to Device\n",
    "\n",
    "Now let's connect to an Aurora device. You can either:\n",
    "1. Use auto-discovery (connects to first found device)\n",
    "2. Connect to a specific IP address\n",
    "\n",
    "**Method 1: Auto-connect to discovered device**"
   ]
  },
  {
   "cell_type": "code",
   "execution_count": 4,
   "metadata": {},
   "outputs": [
    {
     "name": "stdout",
     "output_type": "stream",
     "text": [
      "Connecting to first discovered device: Aurora Device 0\n",
      "✅ Connected successfully using device discovery!\n"
     ]
    }
   ],
   "source": [
    "# Method 1: Connect using discovered device info\n",
    "if devices:\n",
    "    try:\n",
    "        print(f\"Connecting to first discovered device: {devices[0]['device_name']}\")\n",
    "        sdk.connect(device_info=devices[0])\n",
    "        print(\"✅ Connected successfully using device discovery!\")\n",
    "    except ConnectionError as e:\n",
    "        print(f\"❌ Connection failed: {e}\")\n",
    "else:\n",
    "    print(\"No devices found for auto-connection\")"
   ]
  },
  {
   "cell_type": "markdown",
   "metadata": {},
   "source": [
    "**Method 2: Connect to specific IP address**\n",
    "\n",
    "If you know your device's IP address, you can connect directly:"
   ]
  },
  {
   "cell_type": "markdown",
   "metadata": {},
   "source": []
  },
  {
   "cell_type": "code",
   "execution_count": 5,
   "metadata": {},
   "outputs": [
    {
     "name": "stdout",
     "output_type": "stream",
     "text": [
      "✅ Already connected to device\n"
     ]
    }
   ],
   "source": [
    "# Method 2: Connect using IP address\n",
    "# Uncomment and modify the IP address below if needed\n",
    "device_ip = \"192.168.11.1\"  # Replace with your device's IP\n",
    "\n",
    "try:\n",
    "    if not sdk.is_connected():\n",
    "        print(f\"Connecting to device at {device_ip}...\")\n",
    "        sdk.connect(connection_string=device_ip)\n",
    "        print(\"✅ Connected successfully using IP address!\")\n",
    "    else:\n",
    "        print(\"✅ Already connected to device\")\n",
    "except ConnectionError as e:\n",
    "    print(f\"❌ Connection failed: {e}\")\n",
    "    print(\"\\nTroubleshooting tips:\")\n",
    "    print(\"  - Check that the IP address is correct\")\n",
    "    print(\"  - Ensure the device is powered on\")\n",
    "    print(\"  - Verify network connectivity\")\n",
    "    print(\"  - Make sure no other application is using the device\")"
   ]
  },
  {
   "cell_type": "markdown",
   "metadata": {},
   "source": [
    "## Step 5: Get Device Information\n",
    "\n",
    "Once connected, let's retrieve basic device information."
   ]
  },
  {
   "cell_type": "code",
   "execution_count": 5,
   "metadata": {},
   "outputs": [
    {
     "name": "stdout",
     "output_type": "stream",
     "text": [
      "📱 Device Information:\n",
      "  Device Name: Aurora\n",
      "  Model: A1M1\n",
      "  Firmware Version: 2.0.0-beta1\n",
      "  Hardware Version: 0.0.0\n",
      "  Serial Number: 156F806B5F93F596AD4775291B6583C7\n",
      "\n",
      "🔧 SDK Information:\n",
      "  Version: 2.0.0-beta1\n"
     ]
    }
   ],
   "source": [
    "if sdk.is_connected():\n",
    "    try:\n",
    "        # Get device information\n",
    "        device_info = sdk.get_device_info()\n",
    "        \n",
    "        print(\"📱 Device Information:\")\n",
    "        print(f\"  Device Name: {device_info.device_name}\")\n",
    "        print(f\"  Model: {device_info.device_model_string}\")\n",
    "        print(f\"  Firmware Version: {device_info.firmware_version}\")\n",
    "        print(f\"  Hardware Version: {device_info.hardware_version}\")\n",
    "        print(f\"  Serial Number: {device_info.serial_number}\")\n",
    "        \n",
    "        # Get SDK version info\n",
    "        version_info = sdk.get_version_info()\n",
    "        print(f\"\\n🔧 SDK Information:\")\n",
    "        print(f\"  Version: {version_info.get('version_string', 'Unknown')}\")\n",
    "        \n",
    "    except Exception as e:\n",
    "        print(f\"❌ Failed to get device info: {e}\")\n",
    "else:\n",
    "    print(\"❌ Not connected to device. Please run the connection steps above first.\")"
   ]
  },
  {
   "cell_type": "markdown",
   "metadata": {},
   "source": [
    "## Step 6: Get Current Pose\n",
    "\n",
    "One of the most common operations is getting the current device pose (position and orientation)."
   ]
  },
  {
   "cell_type": "code",
   "execution_count": 7,
   "metadata": {},
   "outputs": [
    {
     "name": "stdout",
     "output_type": "stream",
     "text": [
      "Getting current pose...\n",
      "\n",
      "📍 Current Pose (SE3 format):\n",
      "  Position (x, y, z): (1.061, 9.900, 0.316) meters\n",
      "  Rotation (qx, qy, qz, qw): (-0.023, 0.024, -0.197, 0.980)\n",
      "  Timestamp: 3208140541779 ns\n",
      "\n",
      "📐 Current Pose (Euler format):\n",
      "  Position (x, y, z): (1.061, 9.900, 0.316) meters\n",
      "  Rotation (roll, pitch, yaw): (-0.055, 0.037, -0.398) radians\n",
      "  Rotation (degrees): (-3.2°, 2.1°, -22.8°)\n",
      "  Timestamp: 3208140541779 ns\n"
     ]
    }
   ],
   "source": [
    "if sdk.is_connected():\n",
    "    try:\n",
    "        print(\"Getting current pose...\")\n",
    "        \n",
    "        # Get pose in SE3 format (position + quaternion)\n",
    "        position, rotation, timestamp = sdk.data_provider.get_current_pose(use_se3=True)\n",
    "        \n",
    "        print(\"\\n📍 Current Pose (SE3 format):\")\n",
    "        print(f\"  Position (x, y, z): ({position[0]:.3f}, {position[1]:.3f}, {position[2]:.3f}) meters\")\n",
    "        print(f\"  Rotation (qx, qy, qz, qw): ({rotation[0]:.3f}, {rotation[1]:.3f}, {rotation[2]:.3f}, {rotation[3]:.3f})\")\n",
    "        print(f\"  Timestamp: {timestamp} ns\")\n",
    "        \n",
    "        # Convert timestamp to readable format\n",
    "        timestamp_seconds = timestamp / 1e9\n",
    "\n",
    "        \n",
    "        # Also get pose in Euler format\n",
    "        position_euler, rotation_euler, timestamp_euler = sdk.data_provider.get_current_pose(use_se3=False)\n",
    "        print(f\"\\n📐 Current Pose (Euler format):\")\n",
    "        print(f\"  Position (x, y, z): ({position_euler[0]:.3f}, {position_euler[1]:.3f}, {position_euler[2]:.3f}) meters\")\n",
    "        print(f\"  Rotation (roll, pitch, yaw): ({rotation_euler[0]:.3f}, {rotation_euler[1]:.3f}, {rotation_euler[2]:.3f}) radians\")\n",
    "        print(f\"  Rotation (degrees): ({np.degrees(rotation_euler[0]):.1f}°, {np.degrees(rotation_euler[1]):.1f}°, {np.degrees(rotation_euler[2]):.1f}°)\")\n",
    "        print(f\"  Timestamp: {timestamp_euler} ns\")\n",
    "        \n",
    "    except DataNotReadyError:\n",
    "        print(\"⏳ Pose data not ready yet. The device may still be initializing.\")\n",
    "        print(\"   Try running this cell again in a few seconds.\")\n",
    "    except Exception as e:\n",
    "        print(f\"❌ Failed to get pose: {e}\")\n",
    "else:\n",
    "    print(\"❌ Not connected to device. Please run the connection steps above first.\")"
   ]
  },
  {
   "cell_type": "markdown",
   "metadata": {},
   "source": [
    "## Step 7: Real-time Pose Monitoring\n",
    "\n",
    "Let's monitor the pose in real-time for a few seconds to see how it changes."
   ]
  },
  {
   "cell_type": "code",
   "execution_count": 8,
   "metadata": {},
   "outputs": [
    {
     "name": "stdout",
     "output_type": "stream",
     "text": [
      "📊 Real-time pose monitoring (10 seconds)...\n",
      "Move your Aurora device to see the pose changes!\n",
      "\n",
      "[0.0s] Position: (3.416, 8.588, 0.110) | Time: 3211.341s\n",
      "[1.9s] Position: (4.458, 7.062, -0.035) | Time: 3213.274s\n",
      "[3.9s] Position: (6.187, 6.496, -0.102) | Time: 3215.274s\n",
      "[5.9s] Position: (7.570, 6.395, -0.209) | Time: 3217.207s\n",
      "[7.9s] Position: (8.513, 5.616, -0.312) | Time: 3219.274s\n",
      "[9.9s] Position: (8.111, 5.013, -0.339) | Time: 3221.341s\n",
      "\n",
      "✅ Monitoring complete! Captured 100 pose samples.\n",
      "   Average rate: 10.0 Hz\n"
     ]
    }
   ],
   "source": [
    "if sdk.is_connected():\n",
    "    print(\"📊 Real-time pose monitoring (10 seconds)...\")\n",
    "    print(\"Move your Aurora device to see the pose changes!\\n\")\n",
    "    \n",
    "    start_time = time.time()\n",
    "    pose_count = 0\n",
    "    \n",
    "    try:\n",
    "        while time.time() - start_time < 10.0:  # Monitor for 10 seconds\n",
    "            try:\n",
    "                position, rotation, timestamp = sdk.data_provider.get_current_pose(use_se3=True)\n",
    "                \n",
    "                pose_count += 1\n",
    "                elapsed = time.time() - start_time\n",
    "                \n",
    "                # Print pose every 2 seconds\n",
    "                if pose_count % 20 == 0 or pose_count == 1:  # Assuming ~10Hz pose rate\n",
    "                    timestamp_sec = timestamp / 1e9\n",
    "                    print(f\"[{elapsed:.1f}s] Position: ({position[0]:.3f}, {position[1]:.3f}, {position[2]:.3f}) | Time: {timestamp_sec:.3f}s\")\n",
    "                \n",
    "            except DataNotReadyError:\n",
    "                pass  # Skip if data not ready\n",
    "            \n",
    "            time.sleep(0.1)  # 10Hz monitoring\n",
    "        \n",
    "        print(f\"\\n✅ Monitoring complete! Captured {pose_count} pose samples.\")\n",
    "        print(f\"   Average rate: {pose_count / 10.0:.1f} Hz\")\n",
    "        \n",
    "    except KeyboardInterrupt:\n",
    "        print(\"\\n⏹️ Monitoring stopped by user.\")\n",
    "else:\n",
    "    print(\"❌ Not connected to device. Please run the connection steps above first.\")"
   ]
  },
  {
   "cell_type": "markdown",
   "metadata": {},
   "source": [
    "## Step 8: Proper Cleanup\n",
    "\n",
    "It's important to properly disconnect and clean up resources when you're done."
   ]
  },
  {
   "cell_type": "code",
   "execution_count": 9,
   "metadata": {},
   "outputs": [
    {
     "name": "stdout",
     "output_type": "stream",
     "text": [
      "Disconnecting from device...\n",
      "✅ Disconnected successfully\n",
      "Releasing SDK resources...\n",
      "✅ SDK resources released\n",
      "\n",
      "🎉 Getting Started tutorial completed!\n"
     ]
    }
   ],
   "source": [
    "# Proper cleanup\n",
    "try:\n",
    "    if sdk.is_connected():\n",
    "        print(\"Disconnecting from device...\")\n",
    "        sdk.disconnect()\n",
    "        print(\"✅ Disconnected successfully\")\n",
    "    \n",
    "    print(\"Releasing SDK resources...\")\n",
    "    sdk.release()\n",
    "    print(\"✅ SDK resources released\")\n",
    "    \n",
    "except Exception as e:\n",
    "    print(f\"⚠️ Cleanup warning: {e}\")\n",
    "\n",
    "print(\"\\n🎉 Getting Started tutorial completed!\")"
   ]
  },
  {
   "cell_type": "markdown",
   "metadata": {},
   "source": [
    "## Alternative: Using Context Manager (Recommended)\n",
    "\n",
    "The Aurora SDK supports Python context managers for automatic cleanup. This is the recommended approach:"
   ]
  },
  {
   "cell_type": "code",
   "execution_count": 10,
   "metadata": {},
   "outputs": [
    {
     "name": "stdout",
     "output_type": "stream",
     "text": [
      "🔄 Demonstrating context manager approach...\n",
      "✅ SDK created with context manager\n",
      "✅ Connected to device\n",
      "📍 Sample pose: (0.000, 0.000, 0.000)\n",
      "   Timestamp: 0 ns (0.000s)\n",
      "✅ Context manager automatically handled cleanup!\n"
     ]
    }
   ],
   "source": [
    "# Context manager approach (recommended)\n",
    "print(\"🔄 Demonstrating context manager approach...\")\n",
    "\n",
    "# Replace with your device IP\n",
    "device_ip = \"192.168.11.1\"\n",
    "\n",
    "try:\n",
    "    with AuroraSDK() as sdk:  # Automatic session creation and cleanup\n",
    "        print(\"✅ SDK created with context manager\")\n",
    "        \n",
    "        # Connect to device\n",
    "        sdk.connect(connection_string=device_ip)\n",
    "        print(\"✅ Connected to device\")\n",
    "        \n",
    "        # Get a pose sample\n",
    "        position, rotation, timestamp = sdk.data_provider.get_current_pose()\n",
    "        print(f\"📍 Sample pose: ({position[0]:.3f}, {position[1]:.3f}, {position[2]:.3f})\")\n",
    "        print(f\"   Timestamp: {timestamp} ns ({timestamp / 1e9:.3f}s)\")\n",
    "        \n",
    "        # No need to manually disconnect or release!\n",
    "        # The context manager handles cleanup automatically\n",
    "        \n",
    "except ConnectionError as e:\n",
    "    print(f\"❌ Connection failed: {e}\")\n",
    "except Exception as e:\n",
    "    print(f\"❌ Error: {e}\")\n",
    "\n",
    "print(\"✅ Context manager automatically handled cleanup!\")"
   ]
  },
  {
   "cell_type": "markdown",
   "metadata": {},
   "source": [
    "## Summary\n",
    "\n",
    "In this notebook, you learned:\n",
    "\n",
    "1. ✅ **Import the Aurora SDK** and verify installation\n",
    "2. ✅ **Create SDK instances** and understand the component architecture\n",
    "3. ✅ **Discover Aurora devices** on the network\n",
    "4. ✅ **Connect to devices** using auto-discovery or IP address\n",
    "5. ✅ **Retrieve device information** including model and firmware\n",
    "6. ✅ **Get pose data** in both SE3 and Euler formats\n",
    "7. ✅ **Monitor real-time poses** to see device movement\n",
    "8. ✅ **Proper cleanup** and resource management\n",
    "9. ✅ **Context manager usage** for automatic cleanup\n",
    "\n",
    "## Troubleshooting\n",
    "\n",
    "### Common Issues\n",
    "\n",
    "**\"ValueError: too many values to unpack (expected 2)\"**\n",
    "\n",
    "This error typically occurs when the Jupyter kernel has cached an older version of the Aurora SDK module. To fix:\n",
    "\n",
    "1. **Restart the kernel:** Go to `Kernel → Restart Kernel` in the Jupyter menu\n",
    "2. **Re-run the import cell:** Execute the SDK import cell again after restarting\n",
    "3. **Clear module cache:** The import cell above includes automatic module cache clearing\n",
    "\n",
    "**\"ModuleNotFoundError: No module named 'slamtec_aurora_sdk'\"**\n",
    "\n",
    "1. Check that the Aurora SDK is properly installed\n",
    "2. Make sure you're running the notebook from the correct directory\n",
    "3. Verify the installation path includes the SDK modules\n",
    "\n",
    "**\"ConnectionError: Not connected to any device\"**\n",
    "\n",
    "1. Verify device IP, network connectivity, and device status\n",
    "2. Check that the Aurora device is powered on and in the correct mode\n",
    "3. Ensure no other application is using the device\n",
    "\n",
    "**\"DataNotReadyError: Pose data not ready\"**\n",
    "\n",
    "1. This is normal during device initialization\n",
    "2. Wait a few seconds and try again\n",
    "3. The device may still be starting up or calibrating\n",
    "\n",
    "### Getting Help\n",
    "\n",
    "For more detailed troubleshooting:\n",
    "- Check the [API Documentation](../docs/index.md) \n",
    "- See the main [README](../README.md) troubleshooting section\n",
    "- Review other tutorial notebooks for advanced usage patterns\n",
    "\n",
    "## Next Steps\n",
    "\n",
    "Now that you understand the basics, you can explore more advanced features:\n",
    "\n",
    "- **[Camera and Images](02_camera_and_images.ipynb)** - Working with camera preview and tracking frames\n",
    "- **[LiDAR and Point Clouds](03_lidar_and_point_clouds.ipynb)** - Processing LiDAR scan data\n",
    "- **[Mapping and Navigation](04_mapping_and_navigation.ipynb)** - VSLAM and 2D mapping\n",
    "- **[Enhanced Imaging](05_enhanced_imaging.ipynb)** - Depth camera and semantic segmentation\n",
    "- **[Advanced Usage](06_advanced_usage.ipynb)** - Multi-threading, error handling, and optimization"
   ]
  }
 ],
 "metadata": {
  "kernelspec": {
   "display_name": "venv_win32_eval",
   "language": "python",
   "name": "python3"
  },
  "language_info": {
   "codemirror_mode": {
    "name": "ipython",
    "version": 3
   },
   "file_extension": ".py",
   "mimetype": "text/x-python",
   "name": "python",
   "nbconvert_exporter": "python",
   "pygments_lexer": "ipython3",
   "version": "3.12.4"
  }
 },
 "nbformat": 4,
 "nbformat_minor": 4
}
